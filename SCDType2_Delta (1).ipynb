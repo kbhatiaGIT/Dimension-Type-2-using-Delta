{
  "nbformat": 4,
  "nbformat_minor": 2,
  "metadata": {
    "kernelspec": {
      "name": "synapse_pyspark",
      "display_name": "Synapse PySpark"
    },
    "language_info": {
      "name": "python"
    },
    "description": null,
    "save_output": true,
    "synapse_widget": {
      "version": "0.1",
      "state": {}
    }
  },
  "cells": [
    {
      "cell_type": "markdown",
      "metadata": {
        "nteract": {
          "transient": {
            "deleting": false
          }
        }
      },
      "source": [
        "## Slowly Changing Dimension Type 2 \r\n",
        "\r\n",
        "Use merge functionality to upserts records to a dimension table ( in delta lake format)"
      ]
    },
    {
      "cell_type": "code",
      "execution_count": null,
      "outputs": [],
      "metadata": {},
      "source": [
        "inputPath = 'abfss://container1@553701adls.dfs.core.windows.net/inputfile'"
      ]
    },
    {
      "cell_type": "markdown",
      "metadata": {
        "nteract": {
          "transient": {
            "deleting": false
          }
        }
      },
      "source": [
        "Reading the data into the dataframe. Providing the schema details and header as true for this CSV file. Read the data into a DataFrame. We supply the schema."
      ]
    },
    {
      "cell_type": "code",
      "execution_count": null,
      "outputs": [],
      "metadata": {
        "jupyter": {
          "source_hidden": false,
          "outputs_hidden": false
        },
        "nteract": {
          "transient": {
            "deleting": false
          }
        }
      },
      "source": [
        "from pyspark.sql.types import StructType, StructField, DoubleType, IntegerType, StringType\r\n",
        "\r\n",
        "inputSchema = StructType([\r\n",
        "  StructField(\"CustomerID\", IntegerType(), True),\r\n",
        "  StructField(\"CustomerAddress\", StringType(), True)  \r\n",
        "])\r\n",
        "\r\n",
        "\r\n",
        "rawDataDF = (spark.read\r\n",
        "  .option(\"header\", \"true\")\r\n",
        "  .schema(inputSchema)\r\n",
        "  .csv(inputPath)\r\n",
        "            )"
      ]
    },
    {
      "cell_type": "code",
      "execution_count": null,
      "outputs": [],
      "metadata": {
        "jupyter": {
          "source_hidden": false,
          "outputs_hidden": false
        },
        "nteract": {
          "transient": {
            "deleting": false
          }
        },
        "collapsed": false
      },
      "source": [
        "display(rawDataDF)"
      ]
    },
    {
      "cell_type": "markdown",
      "metadata": {
        "nteract": {
          "transient": {
            "deleting": false
          }
        }
      },
      "source": [
        "Writing the orginal file to deltafile folder"
      ]
    },
    {
      "cell_type": "code",
      "execution_count": null,
      "outputs": [],
      "metadata": {
        "jupyter": {
          "source_hidden": false,
          "outputs_hidden": false
        },
        "nteract": {
          "transient": {
            "deleting": false
          }
        }
      },
      "source": [
        "DataPath = 'abfss://container1@553701adls.dfs.core.windows.net/deltafile'"
      ]
    },
    {
      "cell_type": "code",
      "execution_count": null,
      "outputs": [],
      "metadata": {
        "jupyter": {
          "source_hidden": false,
          "outputs_hidden": false
        },
        "nteract": {
          "transient": {
            "deleting": false
          }
        }
      },
      "source": [
        "# write to Delta Lake\r\n",
        "rawDataDF.write.mode(\"overwrite\").format(\"delta\").save(DataPath)"
      ]
    },
    {
      "cell_type": "markdown",
      "metadata": {
        "nteract": {
          "transient": {
            "deleting": false
          }
        }
      },
      "source": [
        "Creating a SCD Type 2 by adding columns Valid_From, Valid_To and a surrogate key (CustomerSK)"
      ]
    },
    {
      "cell_type": "code",
      "execution_count": null,
      "outputs": [],
      "metadata": {
        "jupyter": {
          "source_hidden": false,
          "outputs_hidden": false
        },
        "nteract": {
          "transient": {
            "deleting": false
          }
        }
      },
      "source": [
        "from pyspark.sql.functions import *\r\n",
        "from pyspark.sql.window import Window\r\n",
        "updatedDF = rawDataDF.withColumn('Valid_To', to_timestamp(lit('12-24-2099 12:01:19.000'),'MM-dd-yyyy HH:mm:ss.SSSS').cast(\"timestamp\"))\\\r\n",
        ".withColumn('Valid_From',current_timestamp().cast(\"timestamp\"))\\\r\n",
        ".withColumn(\"CustomerSK\", row_number().over(Window.orderBy('CustomerID')))\r\n",
        "\r\n",
        "\r\n",
        "  "
      ]
    },
    {
      "cell_type": "code",
      "execution_count": null,
      "outputs": [],
      "metadata": {
        "jupyter": {
          "source_hidden": false,
          "outputs_hidden": false
        },
        "nteract": {
          "transient": {
            "deleting": false
          }
        }
      },
      "source": [
        "updatedDF.write.mode(\"overwrite\").format(\"delta\").option(\"mergeSchema\",\"true\").save(DataPath)"
      ]
    },
    {
      "cell_type": "code",
      "execution_count": null,
      "outputs": [],
      "metadata": {
        "jupyter": {
          "source_hidden": false,
          "outputs_hidden": false
        },
        "nteract": {
          "transient": {
            "deleting": false
          }
        }
      },
      "source": [
        "spark.sql(\"\"\"\r\n",
        "  DROP TABLE IF EXISTS customer_data\r\n",
        "\"\"\")\r\n",
        "spark.sql(\"\"\"\r\n",
        "  CREATE TABLE customer_data\r\n",
        "  USING DELTA\r\n",
        "  LOCATION '{}'\r\n",
        "\"\"\".format(DataPath))"
      ]
    },
    {
      "cell_type": "code",
      "execution_count": null,
      "outputs": [],
      "metadata": {
        "jupyter": {
          "source_hidden": false,
          "outputs_hidden": false
        },
        "nteract": {
          "transient": {
            "deleting": false
          }
        },
        "microsoft": {
          "language": "sparksql"
        },
        "collapsed": false
      },
      "source": [
        "%%sql\r\n",
        "DESCRIBE customer_data"
      ]
    },
    {
      "cell_type": "code",
      "execution_count": null,
      "outputs": [],
      "metadata": {
        "jupyter": {
          "source_hidden": false,
          "outputs_hidden": false
        },
        "nteract": {
          "transient": {
            "deleting": false
          }
        },
        "microsoft": {
          "language": "sparksql"
        },
        "collapsed": false
      },
      "source": [
        "%%sql\r\n",
        "select * from customer_data"
      ]
    },
    {
      "cell_type": "code",
      "execution_count": null,
      "outputs": [],
      "metadata": {
        "jupyter": {
          "source_hidden": false,
          "outputs_hidden": false
        },
        "nteract": {
          "transient": {
            "deleting": false
          }
        }
      },
      "source": [
        "newFile = 'abfss://container1@553701adls.dfs.core.windows.net/newfile'\r\n",
        "newDataDF = (spark\r\n",
        "  .read\r\n",
        "  .option(\"header\", \"true\")\r\n",
        "  .schema(inputSchema)\r\n",
        "  .csv(newFile))"
      ]
    },
    {
      "cell_type": "code",
      "execution_count": null,
      "outputs": [],
      "metadata": {
        "jupyter": {
          "source_hidden": false,
          "outputs_hidden": false
        },
        "nteract": {
          "transient": {
            "deleting": false
          }
        },
        "collapsed": false
      },
      "source": [
        "display(newDataDF)"
      ]
    },
    {
      "cell_type": "code",
      "execution_count": null,
      "outputs": [],
      "metadata": {
        "jupyter": {
          "source_hidden": false,
          "outputs_hidden": false
        },
        "nteract": {
          "transient": {
            "deleting": false
          }
        }
      },
      "source": [
        "# write to Delta Lake\r\n",
        "newDataDF.write.mode(\"overwrite\").format(\"delta\")"
      ]
    },
    {
      "cell_type": "code",
      "execution_count": null,
      "outputs": [],
      "metadata": {
        "jupyter": {
          "source_hidden": false,
          "outputs_hidden": false
        },
        "nteract": {
          "transient": {
            "deleting": false
          }
        }
      },
      "source": [
        "newDataDF.createOrReplaceTempView(\"new_customer_data\")"
      ]
    },
    {
      "cell_type": "code",
      "execution_count": null,
      "outputs": [],
      "metadata": {
        "jupyter": {
          "source_hidden": false,
          "outputs_hidden": false
        },
        "nteract": {
          "transient": {
            "deleting": false
          }
        },
        "microsoft": {
          "language": "sparksql"
        },
        "collapsed": false
      },
      "source": [
        "%%sql\r\n",
        "select * from new_customer_data"
      ]
    },
    {
      "cell_type": "markdown",
      "metadata": {
        "nteract": {
          "transient": {
            "deleting": false
          }
        }
      },
      "source": [
        "Finding the customers that already exists in the orginal table"
      ]
    },
    {
      "cell_type": "code",
      "execution_count": null,
      "outputs": [],
      "metadata": {
        "jupyter": {
          "source_hidden": false,
          "outputs_hidden": false
        },
        "nteract": {
          "transient": {
            "deleting": false
          }
        },
        "microsoft": {
          "language": "sparksql"
        },
        "collapsed": false
      },
      "source": [
        "%%sql\r\n",
        " SELECT\r\n",
        "null AS CustomerSK, CustomerID, CustomerAddress, current_timestamp() AS Valid_From, null AS Valid_To\r\n",
        "FROM new_customer_data\r\n",
        "UNION ALL\r\n",
        "SELECT\r\n",
        "CustomerSK, CustomerID, CustomerAddress, Valid_From, Valid_To\r\n",
        "FROM customer_data\r\n",
        "WHERE CustomerID IN\r\n",
        "(SELECT CustomerID FROM new_customer_data)\r\n",
        ""
      ]
    },
    {
      "cell_type": "code",
      "execution_count": null,
      "outputs": [],
      "metadata": {
        "jupyter": {
          "source_hidden": false,
          "outputs_hidden": false
        },
        "nteract": {
          "transient": {
            "deleting": false
          }
        },
        "microsoft": {
          "language": "sparksql"
        },
        "collapsed": false
      },
      "source": [
        "%%sql\r\n",
        "MERGE INTO customer_data\r\n",
        "USING\r\n",
        " \r\n",
        "\r\n",
        "( SELECT\r\n",
        "null AS CustomerSK, CustomerID, CustomerAddress, current_timestamp() AS Valid_From, null AS Valid_To\r\n",
        "FROM new_customer_data\r\n",
        "UNION ALL\r\n",
        "SELECT\r\n",
        "CustomerSK, CustomerID, CustomerAddress, Valid_From, Valid_To\r\n",
        "FROM customer_data\r\n",
        "WHERE CustomerID IN\r\n",
        "(SELECT CustomerID FROM new_customer_data)\r\n",
        ") ChangeRows\r\n",
        " \r\n",
        "-- merge based on the surrogate key\r\n",
        "ON customer_data.CustomerSK = ChangeRows.CustomerSK\r\n",
        " \r\n",
        "-- if there is a match do this…\r\n",
        "WHEN MATCHED THEN\r\n",
        "UPDATE SET customer_data.Valid_To = current_timestamp()\r\n",
        " \r\n",
        "-- if there is no match insert new row\r\n",
        "WHEN NOT MATCHED THEN INSERT *"
      ]
    },
    {
      "cell_type": "code",
      "execution_count": null,
      "outputs": [],
      "metadata": {
        "jupyter": {
          "source_hidden": false,
          "outputs_hidden": false
        },
        "nteract": {
          "transient": {
            "deleting": false
          }
        },
        "microsoft": {
          "language": "sparksql"
        },
        "collapsed": false
      },
      "source": [
        "%%sql\r\n",
        "select * from customer_data"
      ]
    },
    {
      "cell_type": "code",
      "execution_count": null,
      "outputs": [],
      "metadata": {
        "jupyter": {
          "source_hidden": false,
          "outputs_hidden": false
        },
        "nteract": {
          "transient": {
            "deleting": false
          }
        },
        "microsoft": {
          "language": "sparksql"
        },
        "collapsed": false
      },
      "source": [
        "%%sql\r\n",
        "SELECT  ROW_NUMBER() OVER (ORDER BY CustomerSK NULLS LAST)  AS CustomerSK \r\n",
        "FROM customer_data"
      ]
    },
    {
      "cell_type": "code",
      "execution_count": null,
      "outputs": [],
      "metadata": {
        "jupyter": {
          "source_hidden": false,
          "outputs_hidden": false
        },
        "nteract": {
          "transient": {
            "deleting": false
          }
        }
      },
      "source": [
        "df = sqlContext.table(\"customer_data\")"
      ]
    },
    {
      "cell_type": "code",
      "execution_count": null,
      "outputs": [],
      "metadata": {
        "jupyter": {
          "source_hidden": false,
          "outputs_hidden": false
        },
        "nteract": {
          "transient": {
            "deleting": false
          }
        },
        "collapsed": false
      },
      "source": [
        "display(df)"
      ]
    },
    {
      "cell_type": "code",
      "execution_count": null,
      "outputs": [],
      "metadata": {
        "jupyter": {
          "source_hidden": false,
          "outputs_hidden": false
        },
        "nteract": {
          "transient": {
            "deleting": false
          }
        },
        "microsoft": {
          "language": "sparksql"
        },
        "collapsed": false
      },
      "source": [
        "%%sql\r\n",
        "Select * from customer_data"
      ]
    },
    {
      "cell_type": "code",
      "execution_count": null,
      "outputs": [],
      "metadata": {
        "jupyter": {
          "source_hidden": false,
          "outputs_hidden": false
        },
        "nteract": {
          "transient": {
            "deleting": false
          }
        }
      },
      "source": [
        "updated_sk = df.selectExpr(\r\n",
        "\"ROW_NUMBER() OVER (ORDER BY CustomerSK NULLS LAST)  AS CustomerSK\", \r\n",
        "\"CustomerID\", \"CustomerAddress\", \"Valid_From\", \"Valid_To\"\r\n",
        ")"
      ]
    },
    {
      "cell_type": "code",
      "execution_count": null,
      "outputs": [],
      "metadata": {
        "jupyter": {
          "source_hidden": false,
          "outputs_hidden": false
        },
        "nteract": {
          "transient": {
            "deleting": false
          }
        },
        "collapsed": false
      },
      "source": [
        "display(updated_sk)"
      ]
    },
    {
      "cell_type": "code",
      "execution_count": null,
      "outputs": [],
      "metadata": {
        "jupyter": {
          "source_hidden": false,
          "outputs_hidden": false
        },
        "nteract": {
          "transient": {
            "deleting": false
          }
        }
      },
      "source": [
        "updated_sk.write.mode(\"overwrite\").format(\"delta\").save(DataPath)"
      ]
    },
    {
      "cell_type": "code",
      "execution_count": null,
      "outputs": [],
      "metadata": {
        "jupyter": {
          "source_hidden": false,
          "outputs_hidden": false
        },
        "nteract": {
          "transient": {
            "deleting": false
          }
        },
        "microsoft": {
          "language": "sparksql"
        },
        "collapsed": false
      },
      "source": [
        "%%sql\r\n",
        "Select * from customer_data"
      ]
    }
  ]
}