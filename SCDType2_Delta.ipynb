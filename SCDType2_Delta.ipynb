{
  "cells": [
    {
      "cell_type": "code",
      "source": [
        "inputPath = 'abfss://container1@553701adls.dfs.core.windows.net/inputfile'"
      ],
      "outputs": [
        {
          "output_type": "display_data",
          "data": {
            "application/vnd.livy.statement-meta+json": {
              "spark_pool": "SparkPool1",
              "session_id": 1,
              "statement_id": 31,
              "state": "finished",
              "livy_statement_state": "available",
              "queued_time": "2022-05-28T06:23:41.172352Z",
              "session_start_time": null,
              "execution_start_time": "2022-05-28T06:23:41.2841546Z",
              "execution_finish_time": "2022-05-28T06:23:41.2845783Z"
            },
            "text/plain": "StatementMeta(SparkPool1, 1, 31, Finished, Available)"
          },
          "metadata": {}
        }
      ],
      "execution_count": 70,
      "metadata": {}
    },
    {
      "cell_type": "code",
      "source": [
        "from pyspark.sql.types import StructType, StructField, DoubleType, IntegerType, StringType\r\n",
        "\r\n",
        "inputSchema = StructType([\r\n",
        "  StructField(\"CustomerID\", IntegerType(), True),\r\n",
        "  StructField(\"CustomerAddress\", StringType(), True)  \r\n",
        "])\r\n",
        "\r\n",
        "\r\n",
        "rawDataDF = (spark.read\r\n",
        "  .option(\"header\", \"true\")\r\n",
        "  .schema(inputSchema)\r\n",
        "  .csv(inputPath)\r\n",
        "            )"
      ],
      "outputs": [
        {
          "output_type": "display_data",
          "data": {
            "application/vnd.livy.statement-meta+json": {
              "spark_pool": "SparkPool1",
              "session_id": 1,
              "statement_id": 32,
              "state": "finished",
              "livy_statement_state": "available",
              "queued_time": "2022-05-28T06:23:43.009782Z",
              "session_start_time": null,
              "execution_start_time": "2022-05-28T06:23:43.1291972Z",
              "execution_finish_time": "2022-05-28T06:23:43.2786529Z"
            },
            "text/plain": "StatementMeta(SparkPool1, 1, 32, Finished, Available)"
          },
          "metadata": {}
        }
      ],
      "execution_count": 71,
      "metadata": {
        "jupyter": {
          "source_hidden": false,
          "outputs_hidden": false
        },
        "nteract": {
          "transient": {
            "deleting": false
          }
        }
      }
    },
    {
      "cell_type": "code",
      "source": [
        "display(rawDataDF)"
      ],
      "outputs": [
        {
          "output_type": "display_data",
          "data": {
            "application/vnd.livy.statement-meta+json": {
              "spark_pool": "SparkPool1",
              "session_id": 1,
              "statement_id": 33,
              "state": "finished",
              "livy_statement_state": "available",
              "queued_time": "2022-05-28T06:23:47.6633865Z",
              "session_start_time": null,
              "execution_start_time": "2022-05-28T06:23:47.7840614Z",
              "execution_finish_time": "2022-05-28T06:23:48.3072482Z"
            },
            "text/plain": "StatementMeta(SparkPool1, 1, 33, Finished, Available)"
          },
          "metadata": {}
        },
        {
          "output_type": "display_data",
          "data": {
            "application/vnd.synapse.widget-view+json": {
              "widget_id": "99918fbc-97f2-4b12-ae75-7bd950280772",
              "widget_type": "Synapse.DataFrame"
            },
            "text/plain": "SynapseWidget(Synapse.DataFrame, 99918fbc-97f2-4b12-ae75-7bd950280772)"
          },
          "metadata": {}
        }
      ],
      "execution_count": 72,
      "metadata": {
        "jupyter": {
          "source_hidden": false,
          "outputs_hidden": false
        },
        "nteract": {
          "transient": {
            "deleting": false
          }
        },
        "collapsed": false
      }
    },
    {
      "cell_type": "code",
      "source": [
        "rawDataDF.describe()\r\n"
      ],
      "outputs": [],
      "execution_count": null,
      "metadata": {
        "jupyter": {
          "source_hidden": false,
          "outputs_hidden": false
        },
        "nteract": {
          "transient": {
            "deleting": false
          }
        }
      }
    },
    {
      "cell_type": "code",
      "source": [
        "DataPath = 'abfss://container1@553701adls.dfs.core.windows.net/deltafile'"
      ],
      "outputs": [
        {
          "output_type": "display_data",
          "data": {
            "application/vnd.livy.statement-meta+json": {
              "spark_pool": "SparkPool1",
              "session_id": 1,
              "statement_id": 34,
              "state": "finished",
              "livy_statement_state": "available",
              "queued_time": "2022-05-28T06:23:53.3134642Z",
              "session_start_time": null,
              "execution_start_time": "2022-05-28T06:23:53.4481766Z",
              "execution_finish_time": "2022-05-28T06:23:53.4483912Z"
            },
            "text/plain": "StatementMeta(SparkPool1, 1, 34, Finished, Available)"
          },
          "metadata": {}
        }
      ],
      "execution_count": 73,
      "metadata": {
        "jupyter": {
          "source_hidden": false,
          "outputs_hidden": false
        },
        "nteract": {
          "transient": {
            "deleting": false
          }
        }
      }
    },
    {
      "cell_type": "code",
      "source": [
        "# write to Delta Lake\r\n",
        "rawDataDF.write.mode(\"overwrite\").format(\"delta\").save(DataPath)"
      ],
      "outputs": [
        {
          "output_type": "display_data",
          "data": {
            "application/vnd.livy.statement-meta+json": {
              "spark_pool": "SparkPool1",
              "session_id": 1,
              "statement_id": 51,
              "state": "finished",
              "livy_statement_state": "available",
              "queued_time": "2022-05-28T06:45:34.4660825Z",
              "session_start_time": null,
              "execution_start_time": "2022-05-28T06:45:34.5786231Z",
              "execution_finish_time": "2022-05-28T06:45:39.8589751Z"
            },
            "text/plain": "StatementMeta(SparkPool1, 1, 51, Finished, Available)"
          },
          "metadata": {}
        }
      ],
      "execution_count": 90,
      "metadata": {
        "jupyter": {
          "source_hidden": false,
          "outputs_hidden": false
        },
        "nteract": {
          "transient": {
            "deleting": false
          }
        }
      }
    },
    {
      "cell_type": "code",
      "source": [
        "from pyspark.sql.functions import *\r\n",
        "updatedDF = rawDataDF.withColumn('Valid_To', to_timestamp(lit('12-24-2099 12:01:19.000'),'MM-dd-yyyy HH:mm:ss.SSSS').cast(\"timestamp\"))\\\r\n",
        ".withColumn('Valid_From',F.current_timestamp().cast(\"timestamp\"))\\\r\n",
        ".withColumn(\"CustomerSK\", row_number().over(Window.orderBy('CustomerID')))\r\n",
        "\r\n",
        "\r\n",
        "  "
      ],
      "outputs": [
        {
          "output_type": "display_data",
          "data": {
            "application/vnd.livy.statement-meta+json": {
              "spark_pool": "SparkPool1",
              "session_id": 1,
              "statement_id": 52,
              "state": "finished",
              "livy_statement_state": "available",
              "queued_time": "2022-05-28T06:45:45.1087116Z",
              "session_start_time": null,
              "execution_start_time": "2022-05-28T06:45:45.2262863Z",
              "execution_finish_time": "2022-05-28T06:45:45.372045Z"
            },
            "text/plain": "StatementMeta(SparkPool1, 1, 52, Finished, Available)"
          },
          "metadata": {}
        }
      ],
      "execution_count": 91,
      "metadata": {
        "jupyter": {
          "source_hidden": false,
          "outputs_hidden": false
        },
        "nteract": {
          "transient": {
            "deleting": false
          }
        }
      }
    },
    {
      "cell_type": "code",
      "source": [
        "updatedDF.write.mode(\"overwrite\").format(\"delta\").option(\"mergeSchema\",\"true\").save(DataPath)"
      ],
      "outputs": [
        {
          "output_type": "display_data",
          "data": {
            "application/vnd.livy.statement-meta+json": {
              "spark_pool": "SparkPool1",
              "session_id": 1,
              "statement_id": 71,
              "state": "finished",
              "livy_statement_state": "available",
              "queued_time": "2022-05-28T07:00:27.1081845Z",
              "session_start_time": null,
              "execution_start_time": "2022-05-28T07:00:27.2279894Z",
              "execution_finish_time": "2022-05-28T07:00:31.0986212Z"
            },
            "text/plain": "StatementMeta(SparkPool1, 1, 71, Finished, Available)"
          },
          "metadata": {}
        }
      ],
      "execution_count": 110,
      "metadata": {
        "jupyter": {
          "source_hidden": false,
          "outputs_hidden": false
        },
        "nteract": {
          "transient": {
            "deleting": false
          }
        }
      }
    },
    {
      "cell_type": "code",
      "source": [
        "spark.sql(\"\"\"\r\n",
        "  DROP TABLE IF EXISTS customer_data\r\n",
        "\"\"\")\r\n",
        "spark.sql(\"\"\"\r\n",
        "  CREATE TABLE customer_data\r\n",
        "  USING DELTA\r\n",
        "  LOCATION '{}'\r\n",
        "\"\"\".format(DataPath))"
      ],
      "outputs": [
        {
          "output_type": "display_data",
          "data": {
            "application/vnd.livy.statement-meta+json": {
              "spark_pool": "SparkPool1",
              "session_id": 1,
              "statement_id": 78,
              "state": "finished",
              "livy_statement_state": "available",
              "queued_time": "2022-05-28T07:15:36.0370699Z",
              "session_start_time": null,
              "execution_start_time": "2022-05-28T07:15:36.2282949Z",
              "execution_finish_time": "2022-05-28T07:15:44.8943339Z"
            },
            "text/plain": "StatementMeta(SparkPool1, 1, 78, Finished, Available)"
          },
          "metadata": {}
        },
        {
          "output_type": "display_data",
          "data": {
            "text/plain": "DataFrame[]"
          },
          "metadata": {}
        }
      ],
      "execution_count": 117,
      "metadata": {
        "jupyter": {
          "source_hidden": false,
          "outputs_hidden": false
        },
        "nteract": {
          "transient": {
            "deleting": false
          }
        }
      }
    },
    {
      "cell_type": "code",
      "source": [
        "updatedDF.createOrReplaceTempView(\"customer_data\")"
      ],
      "outputs": [
        {
          "output_type": "display_data",
          "data": {
            "application/vnd.livy.statement-meta+json": {
              "spark_pool": "SparkPool1",
              "session_id": 1,
              "statement_id": 75,
              "state": "finished",
              "livy_statement_state": "available",
              "queued_time": "2022-05-28T07:01:06.706052Z",
              "session_start_time": null,
              "execution_start_time": "2022-05-28T07:01:06.8151099Z",
              "execution_finish_time": "2022-05-28T07:01:06.9706383Z"
            },
            "text/plain": "StatementMeta(SparkPool1, 1, 75, Finished, Available)"
          },
          "metadata": {}
        }
      ],
      "execution_count": 114,
      "metadata": {
        "jupyter": {
          "source_hidden": false,
          "outputs_hidden": false
        },
        "nteract": {
          "transient": {
            "deleting": false
          }
        }
      }
    },
    {
      "cell_type": "code",
      "source": [
        "%%sql\r\n",
        "DESCRIBE customer_data"
      ],
      "outputs": [
        {
          "output_type": "display_data",
          "data": {
            "application/vnd.livy.statement-meta+json": {
              "spark_pool": "SparkPool1",
              "session_id": 1,
              "statement_id": 76,
              "state": "finished",
              "livy_statement_state": "available",
              "queued_time": "2022-05-28T07:01:46.9166681Z",
              "session_start_time": null,
              "execution_start_time": "2022-05-28T07:01:47.0381138Z",
              "execution_finish_time": "2022-05-28T07:01:47.5389708Z"
            },
            "text/plain": "StatementMeta(SparkPool1, 1, 76, Finished, Available)"
          },
          "metadata": {}
        },
        {
          "output_type": "execute_result",
          "execution_count": 115,
          "data": {
            "application/vnd.synapse.sparksql-result+json": {
              "schema": {
                "type": "struct",
                "fields": [
                  {
                    "name": "col_name",
                    "type": "string",
                    "nullable": false,
                    "metadata": {
                      "comment": "name of the column"
                    }
                  },
                  {
                    "name": "data_type",
                    "type": "string",
                    "nullable": false,
                    "metadata": {
                      "comment": "data type of the column"
                    }
                  },
                  {
                    "name": "comment",
                    "type": "string",
                    "nullable": true,
                    "metadata": {
                      "comment": "comment of the column"
                    }
                  }
                ]
              },
              "data": [
                [
                  "CustomerID",
                  "int",
                  null
                ],
                [
                  "CustomerAddress",
                  "string",
                  null
                ],
                [
                  "Valid_To",
                  "timestamp",
                  null
                ],
                [
                  "Valid_From",
                  "timestamp",
                  null
                ],
                [
                  "CustomerSK",
                  "int",
                  null
                ]
              ]
            },
            "text/plain": "<Spark SQL result set with 5 rows and 3 fields>"
          },
          "metadata": {}
        }
      ],
      "execution_count": 115,
      "metadata": {
        "jupyter": {
          "source_hidden": false,
          "outputs_hidden": false
        },
        "nteract": {
          "transient": {
            "deleting": false
          }
        },
        "microsoft": {
          "language": "sparksql"
        },
        "collapsed": false
      }
    },
    {
      "cell_type": "code",
      "source": [
        "%%sql\r\n",
        "select * from customer_data"
      ],
      "outputs": [
        {
          "output_type": "display_data",
          "data": {
            "application/vnd.livy.statement-meta+json": {
              "spark_pool": "SparkPool1",
              "session_id": 1,
              "statement_id": 54,
              "state": "finished",
              "livy_statement_state": "available",
              "queued_time": "2022-05-28T06:45:52.0146747Z",
              "session_start_time": null,
              "execution_start_time": "2022-05-28T06:45:52.2011898Z",
              "execution_finish_time": "2022-05-28T06:45:53.254587Z"
            },
            "text/plain": "StatementMeta(SparkPool1, 1, 54, Finished, Available)"
          },
          "metadata": {}
        },
        {
          "output_type": "execute_result",
          "execution_count": 93,
          "data": {
            "application/vnd.synapse.sparksql-result+json": {
              "schema": {
                "type": "struct",
                "fields": [
                  {
                    "name": "CustomerID",
                    "type": "integer",
                    "nullable": true,
                    "metadata": {}
                  },
                  {
                    "name": "CustomerAddress",
                    "type": "string",
                    "nullable": true,
                    "metadata": {}
                  },
                  {
                    "name": "Valid_To",
                    "type": "timestamp",
                    "nullable": true,
                    "metadata": {}
                  },
                  {
                    "name": "Valid_From",
                    "type": "timestamp",
                    "nullable": false,
                    "metadata": {}
                  },
                  {
                    "name": "CustomerSK",
                    "type": "integer",
                    "nullable": false,
                    "metadata": {}
                  }
                ]
              },
              "data": [
                [
                  1,
                  "82 Margate Drive, Sheffield S4 8FQ",
                  "2099-12-24T12:01:19Z",
                  "2022-05-28T06:45:52Z",
                  1
                ],
                [
                  2,
                  "135 High Barns, Ely, CB7 4RH",
                  "2099-12-24T12:01:19Z",
                  "2022-05-28T06:45:52Z",
                  2
                ],
                [
                  3,
                  "Guyzance Cottage, Guyzance NE65 9AF",
                  "2099-12-24T12:01:19Z",
                  "2022-05-28T06:45:52Z",
                  3
                ],
                [
                  4,
                  "322 Fernhill, Mountain Ash, CF45 3EN",
                  "2099-12-24T12:01:19Z",
                  "2022-05-28T06:45:52Z",
                  4
                ],
                [
                  5,
                  "381 Southborough Lane, Bromley, BR2 8BQ",
                  "2099-12-24T12:01:19Z",
                  "2022-05-28T06:45:52Z",
                  5
                ]
              ]
            },
            "text/plain": "<Spark SQL result set with 5 rows and 5 fields>"
          },
          "metadata": {}
        }
      ],
      "execution_count": 93,
      "metadata": {
        "jupyter": {
          "source_hidden": false,
          "outputs_hidden": false
        },
        "nteract": {
          "transient": {
            "deleting": false
          }
        },
        "microsoft": {
          "language": "sparksql"
        },
        "collapsed": false
      }
    },
    {
      "cell_type": "code",
      "source": [
        "newFile = 'abfss://container1@553701adls.dfs.core.windows.net/newfile'\r\n",
        "newDataDF = (spark\r\n",
        "  .read\r\n",
        "  .option(\"header\", \"true\")\r\n",
        "  .schema(inputSchema)\r\n",
        "  .csv(newFile))"
      ],
      "outputs": [
        {
          "output_type": "display_data",
          "data": {
            "application/vnd.livy.statement-meta+json": {
              "spark_pool": "SparkPool1",
              "session_id": 1,
              "statement_id": 39,
              "state": "finished",
              "livy_statement_state": "available",
              "queued_time": "2022-05-28T06:24:33.5596323Z",
              "session_start_time": null,
              "execution_start_time": "2022-05-28T06:24:33.6715634Z",
              "execution_finish_time": "2022-05-28T06:24:33.816864Z"
            },
            "text/plain": "StatementMeta(SparkPool1, 1, 39, Finished, Available)"
          },
          "metadata": {}
        }
      ],
      "execution_count": 78,
      "metadata": {
        "jupyter": {
          "source_hidden": false,
          "outputs_hidden": false
        },
        "nteract": {
          "transient": {
            "deleting": false
          }
        }
      }
    },
    {
      "cell_type": "code",
      "source": [
        "display(newDataDF)"
      ],
      "outputs": [
        {
          "output_type": "display_data",
          "data": {
            "application/vnd.livy.statement-meta+json": {
              "spark_pool": "SparkPool1",
              "session_id": 1,
              "statement_id": 40,
              "state": "finished",
              "livy_statement_state": "available",
              "queued_time": "2022-05-28T06:24:37.106736Z",
              "session_start_time": null,
              "execution_start_time": "2022-05-28T06:24:37.2726005Z",
              "execution_finish_time": "2022-05-28T06:24:37.7717844Z"
            },
            "text/plain": "StatementMeta(SparkPool1, 1, 40, Finished, Available)"
          },
          "metadata": {}
        },
        {
          "output_type": "display_data",
          "data": {
            "application/vnd.synapse.widget-view+json": {
              "widget_id": "a03c6f30-3d69-4b93-9075-150345afaacd",
              "widget_type": "Synapse.DataFrame"
            },
            "text/plain": "SynapseWidget(Synapse.DataFrame, a03c6f30-3d69-4b93-9075-150345afaacd)"
          },
          "metadata": {}
        }
      ],
      "execution_count": 79,
      "metadata": {
        "jupyter": {
          "source_hidden": false,
          "outputs_hidden": false
        },
        "nteract": {
          "transient": {
            "deleting": false
          }
        },
        "collapsed": false
      }
    },
    {
      "cell_type": "code",
      "source": [
        "# write to Delta Lake\r\n",
        "newDataDF.write.mode(\"overwrite\").format(\"delta\")"
      ],
      "outputs": [
        {
          "output_type": "display_data",
          "data": {
            "application/vnd.livy.statement-meta+json": {
              "spark_pool": "SparkPool1",
              "session_id": 1,
              "statement_id": 65,
              "state": "finished",
              "livy_statement_state": "available",
              "queued_time": "2022-05-28T06:54:12.5113516Z",
              "session_start_time": null,
              "execution_start_time": "2022-05-28T06:54:12.6164683Z",
              "execution_finish_time": "2022-05-28T06:54:12.7594515Z"
            },
            "text/plain": "StatementMeta(SparkPool1, 1, 65, Finished, Available)"
          },
          "metadata": {}
        },
        {
          "output_type": "display_data",
          "data": {
            "text/plain": "<pyspark.sql.readwriter.DataFrameWriter at 0x7fe2bf956d00>"
          },
          "metadata": {}
        }
      ],
      "execution_count": 104,
      "metadata": {
        "jupyter": {
          "source_hidden": false,
          "outputs_hidden": false
        },
        "nteract": {
          "transient": {
            "deleting": false
          }
        }
      }
    },
    {
      "cell_type": "code",
      "source": [],
      "outputs": [],
      "execution_count": null,
      "metadata": {
        "jupyter": {
          "source_hidden": false,
          "outputs_hidden": false
        },
        "nteract": {
          "transient": {
            "deleting": false
          }
        }
      }
    },
    {
      "cell_type": "code",
      "source": [
        "newDataDF.createOrReplaceTempView(\"new_customer_data\")"
      ],
      "outputs": [
        {
          "output_type": "display_data",
          "data": {
            "application/vnd.livy.statement-meta+json": {
              "spark_pool": "SparkPool1",
              "session_id": 1,
              "statement_id": 66,
              "state": "finished",
              "livy_statement_state": "available",
              "queued_time": "2022-05-28T06:54:16.6327623Z",
              "session_start_time": null,
              "execution_start_time": "2022-05-28T06:54:16.7418598Z",
              "execution_finish_time": "2022-05-28T06:54:16.8844333Z"
            },
            "text/plain": "StatementMeta(SparkPool1, 1, 66, Finished, Available)"
          },
          "metadata": {}
        }
      ],
      "execution_count": 105,
      "metadata": {
        "jupyter": {
          "source_hidden": false,
          "outputs_hidden": false
        },
        "nteract": {
          "transient": {
            "deleting": false
          }
        }
      }
    },
    {
      "cell_type": "code",
      "source": [
        "%%sql\r\n",
        "select * from new_customer_data"
      ],
      "outputs": [
        {
          "output_type": "display_data",
          "data": {
            "application/vnd.livy.statement-meta+json": {
              "spark_pool": "SparkPool1",
              "session_id": 1,
              "statement_id": 61,
              "state": "finished",
              "livy_statement_state": "available",
              "queued_time": "2022-05-28T06:52:42.7005142Z",
              "session_start_time": null,
              "execution_start_time": "2022-05-28T06:52:42.8063864Z",
              "execution_finish_time": "2022-05-28T06:52:43.4085692Z"
            },
            "text/plain": "StatementMeta(SparkPool1, 1, 61, Finished, Available)"
          },
          "metadata": {}
        },
        {
          "output_type": "execute_result",
          "execution_count": 100,
          "data": {
            "application/vnd.synapse.sparksql-result+json": {
              "schema": {
                "type": "struct",
                "fields": [
                  {
                    "name": "CustomerID",
                    "type": "integer",
                    "nullable": true,
                    "metadata": {}
                  },
                  {
                    "name": "CustomerAddress",
                    "type": "string",
                    "nullable": true,
                    "metadata": {}
                  }
                ]
              },
              "data": [
                [
                  5,
                  "34 Park Road, East London, E9 7RW"
                ],
                [
                  6,
                  "169 Manchester Road, Preston, PR35 8AQ"
                ],
                [
                  7,
                  "52 Broadway, Plymouth, PL39 3PY"
                ]
              ]
            },
            "text/plain": "<Spark SQL result set with 3 rows and 2 fields>"
          },
          "metadata": {}
        }
      ],
      "execution_count": 100,
      "metadata": {
        "jupyter": {
          "source_hidden": false,
          "outputs_hidden": false
        },
        "nteract": {
          "transient": {
            "deleting": false
          }
        },
        "microsoft": {
          "language": "sparksql"
        },
        "collapsed": false
      }
    },
    {
      "cell_type": "code",
      "source": [],
      "outputs": [],
      "execution_count": null,
      "metadata": {
        "jupyter": {
          "source_hidden": false,
          "outputs_hidden": false
        },
        "nteract": {
          "transient": {
            "deleting": false
          }
        }
      }
    },
    {
      "cell_type": "code",
      "source": [
        "%%sql\r\n",
        " SELECT\r\n",
        "null AS CustomerSK, CustomerID, CustomerAddress, current_timestamp() AS Valid_From, null AS Valid_To\r\n",
        "FROM new_customer_data\r\n",
        "UNION ALL\r\n",
        "SELECT\r\n",
        "CustomerSK, CustomerID, CustomerAddress, Valid_From, Valid_To\r\n",
        "FROM customer_data\r\n",
        "WHERE CustomerID IN\r\n",
        "(SELECT CustomerID FROM new_customer_data)\r\n"
      ],
      "outputs": [
        {
          "output_type": "display_data",
          "data": {
            "application/vnd.livy.statement-meta+json": {
              "spark_pool": "SparkPool1",
              "session_id": 1,
              "statement_id": 67,
              "state": "finished",
              "livy_statement_state": "available",
              "queued_time": "2022-05-28T06:54:22.376246Z",
              "session_start_time": null,
              "execution_start_time": "2022-05-28T06:54:22.4901953Z",
              "execution_finish_time": "2022-05-28T06:54:23.5538173Z"
            },
            "text/plain": "StatementMeta(SparkPool1, 1, 67, Finished, Available)"
          },
          "metadata": {}
        },
        {
          "output_type": "execute_result",
          "execution_count": 106,
          "data": {
            "application/vnd.synapse.sparksql-result+json": {
              "schema": {
                "type": "struct",
                "fields": [
                  {
                    "name": "CustomerSK",
                    "type": "integer",
                    "nullable": true,
                    "metadata": {}
                  },
                  {
                    "name": "CustomerID",
                    "type": "integer",
                    "nullable": true,
                    "metadata": {}
                  },
                  {
                    "name": "CustomerAddress",
                    "type": "string",
                    "nullable": true,
                    "metadata": {}
                  },
                  {
                    "name": "Valid_From",
                    "type": "timestamp",
                    "nullable": false,
                    "metadata": {}
                  },
                  {
                    "name": "Valid_To",
                    "type": "timestamp",
                    "nullable": true,
                    "metadata": {}
                  }
                ]
              },
              "data": [
                [
                  null,
                  5,
                  "34 Park Road, East London, E9 7RW",
                  "2022-05-28T06:54:22Z",
                  null
                ],
                [
                  null,
                  6,
                  "169 Manchester Road, Preston, PR35 8AQ",
                  "2022-05-28T06:54:22Z",
                  null
                ],
                [
                  null,
                  7,
                  "52 Broadway, Plymouth, PL39 3PY",
                  "2022-05-28T06:54:22Z",
                  null
                ],
                [
                  5,
                  5,
                  "381 Southborough Lane, Bromley, BR2 8BQ",
                  "2022-05-28T06:54:22Z",
                  "2099-12-24T12:01:19Z"
                ]
              ]
            },
            "text/plain": "<Spark SQL result set with 4 rows and 5 fields>"
          },
          "metadata": {}
        }
      ],
      "execution_count": 106,
      "metadata": {
        "jupyter": {
          "source_hidden": false,
          "outputs_hidden": false
        },
        "nteract": {
          "transient": {
            "deleting": false
          }
        },
        "microsoft": {
          "language": "sparksql"
        },
        "collapsed": false
      }
    },
    {
      "cell_type": "code",
      "source": [
        "%%sql\r\n",
        "MERGE INTO customer_data\r\n",
        "USING\r\n",
        " \r\n",
        "-- Update table with rows to match (new and old referenced as seen in example above)\r\n",
        "( SELECT\r\n",
        "null AS CustomerSK, CustomerID, CustomerAddress, current_timestamp() AS Valid_From, null AS Valid_To\r\n",
        "FROM new_customer_data\r\n",
        "UNION ALL\r\n",
        "SELECT\r\n",
        "CustomerSK, CustomerID, CustomerAddress, Valid_From, Valid_To\r\n",
        "FROM customer_data\r\n",
        "WHERE CustomerID IN\r\n",
        "(SELECT CustomerID FROM new_customer_data)\r\n",
        ") ChangeRows\r\n",
        " \r\n",
        "-- based on the following column(s)\r\n",
        "ON customer_data.CustomerSK = ChangeRows.CustomerSK\r\n",
        " \r\n",
        "-- if there is a match do this…\r\n",
        "WHEN MATCHED THEN\r\n",
        "UPDATE SET customer_data.Valid_To = current_timestamp()\r\n",
        " \r\n",
        "-- if there is no match insert new row\r\n",
        "WHEN NOT MATCHED THEN INSERT *"
      ],
      "outputs": [
        {
          "output_type": "display_data",
          "data": {
            "application/vnd.livy.statement-meta+json": {
              "spark_pool": "SparkPool1",
              "session_id": 1,
              "statement_id": 79,
              "state": "finished",
              "livy_statement_state": "available",
              "queued_time": "2022-05-28T07:16:11.2138477Z",
              "session_start_time": null,
              "execution_start_time": "2022-05-28T07:16:11.3351261Z",
              "execution_finish_time": "2022-05-28T07:16:22.7743165Z"
            },
            "text/plain": "StatementMeta(SparkPool1, 1, 79, Finished, Available)"
          },
          "metadata": {}
        },
        {
          "output_type": "execute_result",
          "execution_count": 118,
          "data": {
            "application/vnd.synapse.sparksql-result+json": {
              "schema": {
                "type": "struct",
                "fields": []
              },
              "data": []
            },
            "text/plain": "<Spark SQL result set with 0 rows and 0 fields>"
          },
          "metadata": {}
        }
      ],
      "execution_count": 118,
      "metadata": {
        "jupyter": {
          "source_hidden": false,
          "outputs_hidden": false
        },
        "nteract": {
          "transient": {
            "deleting": false
          }
        },
        "microsoft": {
          "language": "sparksql"
        },
        "collapsed": false
      }
    },
    {
      "cell_type": "code",
      "source": [
        "%%sql\r\n",
        "select * from customer_data"
      ],
      "outputs": [
        {
          "output_type": "display_data",
          "data": {
            "application/vnd.livy.statement-meta+json": {
              "spark_pool": "SparkPool1",
              "session_id": 1,
              "statement_id": 80,
              "state": "finished",
              "livy_statement_state": "available",
              "queued_time": "2022-05-28T07:16:56.0925385Z",
              "session_start_time": null,
              "execution_start_time": "2022-05-28T07:16:56.1944208Z",
              "execution_finish_time": "2022-05-28T07:16:57.9987026Z"
            },
            "text/plain": "StatementMeta(SparkPool1, 1, 80, Finished, Available)"
          },
          "metadata": {}
        },
        {
          "output_type": "execute_result",
          "execution_count": 119,
          "data": {
            "application/vnd.synapse.sparksql-result+json": {
              "schema": {
                "type": "struct",
                "fields": [
                  {
                    "name": "CustomerID",
                    "type": "integer",
                    "nullable": true,
                    "metadata": {}
                  },
                  {
                    "name": "CustomerAddress",
                    "type": "string",
                    "nullable": true,
                    "metadata": {}
                  },
                  {
                    "name": "Valid_To",
                    "type": "timestamp",
                    "nullable": true,
                    "metadata": {}
                  },
                  {
                    "name": "Valid_From",
                    "type": "timestamp",
                    "nullable": true,
                    "metadata": {}
                  },
                  {
                    "name": "CustomerSK",
                    "type": "integer",
                    "nullable": true,
                    "metadata": {}
                  }
                ]
              },
              "data": [
                [
                  5,
                  "34 Park Road, East London, E9 7RW",
                  null,
                  "2022-05-28T07:16:16Z",
                  null
                ],
                [
                  6,
                  "169 Manchester Road, Preston, PR35 8AQ",
                  null,
                  "2022-05-28T07:16:16Z",
                  null
                ],
                [
                  7,
                  "52 Broadway, Plymouth, PL39 3PY",
                  null,
                  "2022-05-28T07:16:16Z",
                  null
                ],
                [
                  1,
                  "82 Margate Drive, Sheffield S4 8FQ",
                  "2099-12-24T12:01:19Z",
                  "2022-05-28T07:00:27Z",
                  1
                ],
                [
                  2,
                  "135 High Barns, Ely, CB7 4RH",
                  "2099-12-24T12:01:19Z",
                  "2022-05-28T07:00:27Z",
                  2
                ],
                [
                  3,
                  "Guyzance Cottage, Guyzance NE65 9AF",
                  "2099-12-24T12:01:19Z",
                  "2022-05-28T07:00:27Z",
                  3
                ],
                [
                  4,
                  "322 Fernhill, Mountain Ash, CF45 3EN",
                  "2099-12-24T12:01:19Z",
                  "2022-05-28T07:00:27Z",
                  4
                ],
                [
                  5,
                  "381 Southborough Lane, Bromley, BR2 8BQ",
                  "2022-05-28T07:16:11Z",
                  "2022-05-28T07:00:27Z",
                  5
                ]
              ]
            },
            "text/plain": "<Spark SQL result set with 8 rows and 5 fields>"
          },
          "metadata": {}
        }
      ],
      "execution_count": 119,
      "metadata": {
        "jupyter": {
          "source_hidden": false,
          "outputs_hidden": false
        },
        "nteract": {
          "transient": {
            "deleting": false
          }
        },
        "microsoft": {
          "language": "sparksql"
        },
        "collapsed": false
      }
    },
    {
      "cell_type": "code",
      "source": [
        "%%sql\r\n",
        "SELECT  ROW_NUMBER() OVER (ORDER BY CustomerSK NULLS LAST)  AS CustomerSK \r\n",
        "FROM customer_data"
      ],
      "outputs": [
        {
          "output_type": "display_data",
          "data": {
            "application/vnd.livy.statement-meta+json": {
              "spark_pool": "SparkPool1",
              "session_id": 1,
              "statement_id": 84,
              "state": "finished",
              "livy_statement_state": "available",
              "queued_time": "2022-05-28T07:25:49.5009536Z",
              "session_start_time": null,
              "execution_start_time": "2022-05-28T07:25:49.6222942Z",
              "execution_finish_time": "2022-05-28T07:25:51.4268624Z"
            },
            "text/plain": "StatementMeta(SparkPool1, 1, 84, Finished, Available)"
          },
          "metadata": {}
        },
        {
          "output_type": "execute_result",
          "execution_count": 123,
          "data": {
            "application/vnd.synapse.sparksql-result+json": {
              "schema": {
                "type": "struct",
                "fields": [
                  {
                    "name": "CustomerSK",
                    "type": "integer",
                    "nullable": false,
                    "metadata": {}
                  }
                ]
              },
              "data": [
                [
                  1
                ],
                [
                  2
                ],
                [
                  3
                ],
                [
                  4
                ],
                [
                  5
                ],
                [
                  6
                ],
                [
                  7
                ],
                [
                  8
                ]
              ]
            },
            "text/plain": "<Spark SQL result set with 8 rows and 1 fields>"
          },
          "metadata": {}
        }
      ],
      "execution_count": 123,
      "metadata": {
        "jupyter": {
          "source_hidden": false,
          "outputs_hidden": false
        },
        "nteract": {
          "transient": {
            "deleting": false
          }
        },
        "microsoft": {
          "language": "sparksql"
        },
        "collapsed": false
      }
    },
    {
      "cell_type": "code",
      "source": [
        "%%sql\r\n",
        "SELECT  ROW_NUMBER() OVER (ORDER BY CustomerSK NULLS LAST)  AS CustomerSK\r\n",
        "FROM customer_data"
      ],
      "outputs": [
        {
          "output_type": "display_data",
          "data": {
            "application/vnd.livy.statement-meta+json": {
              "spark_pool": "SparkPool1",
              "session_id": 1,
              "statement_id": 105,
              "state": "finished",
              "livy_statement_state": "available",
              "queued_time": "2022-05-28T08:13:33.408676Z",
              "session_start_time": null,
              "execution_start_time": "2022-05-28T08:13:33.5366501Z",
              "execution_finish_time": "2022-05-28T08:13:35.3987276Z"
            },
            "text/plain": "StatementMeta(SparkPool1, 1, 105, Finished, Available)"
          },
          "metadata": {}
        },
        {
          "output_type": "execute_result",
          "execution_count": 145,
          "data": {
            "application/vnd.synapse.sparksql-result+json": {
              "schema": {
                "type": "struct",
                "fields": [
                  {
                    "name": "CustomerSK",
                    "type": "integer",
                    "nullable": false,
                    "metadata": {}
                  }
                ]
              },
              "data": [
                [
                  1
                ],
                [
                  2
                ],
                [
                  3
                ],
                [
                  4
                ],
                [
                  5
                ],
                [
                  6
                ],
                [
                  7
                ],
                [
                  8
                ]
              ]
            },
            "text/plain": "<Spark SQL result set with 8 rows and 1 fields>"
          },
          "metadata": {}
        }
      ],
      "execution_count": 145,
      "metadata": {
        "jupyter": {
          "source_hidden": false,
          "outputs_hidden": false
        },
        "nteract": {
          "transient": {
            "deleting": false
          }
        },
        "microsoft": {
          "language": "sparksql"
        },
        "collapsed": false
      }
    },
    {
      "cell_type": "code",
      "source": [
        "df = sqlContext.table(\"customer_data\")"
      ],
      "outputs": [
        {
          "output_type": "display_data",
          "data": {
            "application/vnd.livy.statement-meta+json": {
              "spark_pool": "SparkPool1",
              "session_id": 1,
              "statement_id": 116,
              "state": "finished",
              "livy_statement_state": "available",
              "queued_time": "2022-05-28T08:49:12.765243Z",
              "session_start_time": null,
              "execution_start_time": "2022-05-28T08:49:12.8753208Z",
              "execution_finish_time": "2022-05-28T08:49:13.3943365Z"
            },
            "text/plain": "StatementMeta(SparkPool1, 1, 116, Finished, Available)"
          },
          "metadata": {}
        }
      ],
      "execution_count": 156,
      "metadata": {
        "jupyter": {
          "source_hidden": false,
          "outputs_hidden": false
        },
        "nteract": {
          "transient": {
            "deleting": false
          }
        }
      }
    },
    {
      "cell_type": "code",
      "source": [
        "display(df)"
      ],
      "outputs": [
        {
          "output_type": "display_data",
          "data": {
            "application/vnd.livy.statement-meta+json": {
              "spark_pool": "SparkPool1",
              "session_id": 1,
              "statement_id": 117,
              "state": "finished",
              "livy_statement_state": "available",
              "queued_time": "2022-05-28T08:49:25.4328723Z",
              "session_start_time": null,
              "execution_start_time": "2022-05-28T08:49:25.5952597Z",
              "execution_finish_time": "2022-05-28T08:49:26.6633941Z"
            },
            "text/plain": "StatementMeta(SparkPool1, 1, 117, Finished, Available)"
          },
          "metadata": {}
        },
        {
          "output_type": "display_data",
          "data": {
            "application/vnd.synapse.widget-view+json": {
              "widget_id": "0a0851c9-c37b-4ffb-b8eb-0d89f0f6984e",
              "widget_type": "Synapse.DataFrame"
            },
            "text/plain": "SynapseWidget(Synapse.DataFrame, 0a0851c9-c37b-4ffb-b8eb-0d89f0f6984e)"
          },
          "metadata": {}
        }
      ],
      "execution_count": 157,
      "metadata": {
        "jupyter": {
          "source_hidden": false,
          "outputs_hidden": false
        },
        "nteract": {
          "transient": {
            "deleting": false
          }
        },
        "collapsed": false
      }
    },
    {
      "cell_type": "code",
      "source": [
        "%%sql\r\n",
        "Select * from customer_data"
      ],
      "outputs": [
        {
          "output_type": "display_data",
          "data": {
            "application/vnd.livy.statement-meta+json": {
              "spark_pool": "SparkPool1",
              "session_id": 1,
              "statement_id": 115,
              "state": "finished",
              "livy_statement_state": "available",
              "queued_time": "2022-05-28T08:48:59.4947416Z",
              "session_start_time": null,
              "execution_start_time": "2022-05-28T08:48:59.6053345Z",
              "execution_finish_time": "2022-05-28T08:49:01.4224793Z"
            },
            "text/plain": "StatementMeta(SparkPool1, 1, 115, Finished, Available)"
          },
          "metadata": {}
        },
        {
          "output_type": "execute_result",
          "execution_count": 155,
          "data": {
            "application/vnd.synapse.sparksql-result+json": {
              "schema": {
                "type": "struct",
                "fields": [
                  {
                    "name": "CustomerID",
                    "type": "integer",
                    "nullable": true,
                    "metadata": {}
                  },
                  {
                    "name": "CustomerAddress",
                    "type": "string",
                    "nullable": true,
                    "metadata": {}
                  },
                  {
                    "name": "Valid_To",
                    "type": "timestamp",
                    "nullable": true,
                    "metadata": {}
                  },
                  {
                    "name": "Valid_From",
                    "type": "timestamp",
                    "nullable": true,
                    "metadata": {}
                  },
                  {
                    "name": "CustomerSK",
                    "type": "integer",
                    "nullable": true,
                    "metadata": {}
                  }
                ]
              },
              "data": [
                [
                  5,
                  "34 Park Road, East London, E9 7RW",
                  null,
                  "2022-05-28T07:16:16Z",
                  null
                ],
                [
                  6,
                  "169 Manchester Road, Preston, PR35 8AQ",
                  null,
                  "2022-05-28T07:16:16Z",
                  null
                ],
                [
                  7,
                  "52 Broadway, Plymouth, PL39 3PY",
                  null,
                  "2022-05-28T07:16:16Z",
                  null
                ],
                [
                  1,
                  "82 Margate Drive, Sheffield S4 8FQ",
                  "2099-12-24T12:01:19Z",
                  "2022-05-28T07:00:27Z",
                  1
                ],
                [
                  2,
                  "135 High Barns, Ely, CB7 4RH",
                  "2099-12-24T12:01:19Z",
                  "2022-05-28T07:00:27Z",
                  2
                ],
                [
                  3,
                  "Guyzance Cottage, Guyzance NE65 9AF",
                  "2099-12-24T12:01:19Z",
                  "2022-05-28T07:00:27Z",
                  3
                ],
                [
                  4,
                  "322 Fernhill, Mountain Ash, CF45 3EN",
                  "2099-12-24T12:01:19Z",
                  "2022-05-28T07:00:27Z",
                  4
                ],
                [
                  5,
                  "381 Southborough Lane, Bromley, BR2 8BQ",
                  "2022-05-28T07:16:11Z",
                  "2022-05-28T07:00:27Z",
                  5
                ]
              ]
            },
            "text/plain": "<Spark SQL result set with 8 rows and 5 fields>"
          },
          "metadata": {}
        }
      ],
      "execution_count": 155,
      "metadata": {
        "jupyter": {
          "source_hidden": false,
          "outputs_hidden": false
        },
        "nteract": {
          "transient": {
            "deleting": false
          }
        },
        "microsoft": {
          "language": "sparksql"
        },
        "collapsed": false
      }
    },
    {
      "cell_type": "code",
      "source": [
        "df.selectExpr(\r\n",
        "\"ROW_NUMBER() OVER (ORDER BY CustomerSK NULLS LAST)  AS CustomerSK\", \r\n",
        "\"CustomerID\", \"CustomerAddress\", \"Valid_From\", \"Valid_To\"\r\n",
        ").show()"
      ],
      "outputs": [
        {
          "output_type": "display_data",
          "data": {
            "application/vnd.livy.statement-meta+json": {
              "spark_pool": "SparkPool1",
              "session_id": 1,
              "statement_id": 120,
              "state": "finished",
              "livy_statement_state": "available",
              "queued_time": "2022-05-28T08:50:47.5153574Z",
              "session_start_time": null,
              "execution_start_time": "2022-05-28T08:50:47.6345227Z",
              "execution_finish_time": "2022-05-28T08:50:48.6996619Z"
            },
            "text/plain": "StatementMeta(SparkPool1, 1, 120, Finished, Available)"
          },
          "metadata": {}
        },
        {
          "output_type": "stream",
          "name": "stdout",
          "text": [
            "+----------+----------+--------------------+--------------------+--------------------+\n|CustomerSK|CustomerID|     CustomerAddress|          Valid_From|            Valid_To|\n+----------+----------+--------------------+--------------------+--------------------+\n|         1|         1|82 Margate Drive,...|2022-05-28 07:00:...| 2099-12-24 12:01:19|\n|         2|         2|135 High Barns, E...|2022-05-28 07:00:...| 2099-12-24 12:01:19|\n|         3|         3|Guyzance Cottage,...|2022-05-28 07:00:...| 2099-12-24 12:01:19|\n|         4|         4|322 Fernhill, Mou...|2022-05-28 07:00:...| 2099-12-24 12:01:19|\n|         5|         5|381 Southborough ...|2022-05-28 07:00:...|2022-05-28 07:16:...|\n|         6|         5|34 Park Road, Eas...|2022-05-28 07:16:...|                null|\n|         7|         6|169 Manchester Ro...|2022-05-28 07:16:...|                null|\n|         8|         7|52 Broadway, Plym...|2022-05-28 07:16:...|                null|\n+----------+----------+--------------------+--------------------+--------------------+"
          ]
        }
      ],
      "execution_count": 160,
      "metadata": {
        "jupyter": {
          "source_hidden": false,
          "outputs_hidden": false
        },
        "nteract": {
          "transient": {
            "deleting": false
          }
        }
      }
    },
    {
      "cell_type": "code",
      "source": [
        "df.createOrReplaceTempView(\"customer_data\")"
      ],
      "outputs": [
        {
          "output_type": "display_data",
          "data": {
            "application/vnd.livy.statement-meta+json": {
              "spark_pool": "SparkPool1",
              "session_id": 1,
              "statement_id": 121,
              "state": "finished",
              "livy_statement_state": "available",
              "queued_time": "2022-05-28T08:53:01.6932286Z",
              "session_start_time": null,
              "execution_start_time": "2022-05-28T08:53:01.8787046Z",
              "execution_finish_time": "2022-05-28T08:53:02.0235714Z"
            },
            "text/plain": "StatementMeta(SparkPool1, 1, 121, Finished, Available)"
          },
          "metadata": {}
        }
      ],
      "execution_count": 161,
      "metadata": {
        "jupyter": {
          "source_hidden": false,
          "outputs_hidden": false
        },
        "nteract": {
          "transient": {
            "deleting": false
          }
        }
      }
    },
    {
      "cell_type": "code",
      "source": [
        "%%sql\r\n",
        "Select * from customer_data"
      ],
      "outputs": [
        {
          "output_type": "display_data",
          "data": {
            "application/vnd.livy.statement-meta+json": {
              "spark_pool": "SparkPool1",
              "session_id": 1,
              "statement_id": 122,
              "state": "finished",
              "livy_statement_state": "available",
              "queued_time": "2022-05-28T08:53:21.7151407Z",
              "session_start_time": null,
              "execution_start_time": "2022-05-28T08:53:21.8473254Z",
              "execution_finish_time": "2022-05-28T08:53:23.6747713Z"
            },
            "text/plain": "StatementMeta(SparkPool1, 1, 122, Finished, Available)"
          },
          "metadata": {}
        },
        {
          "output_type": "execute_result",
          "execution_count": 162,
          "data": {
            "application/vnd.synapse.sparksql-result+json": {
              "schema": {
                "type": "struct",
                "fields": [
                  {
                    "name": "CustomerID",
                    "type": "integer",
                    "nullable": true,
                    "metadata": {}
                  },
                  {
                    "name": "CustomerAddress",
                    "type": "string",
                    "nullable": true,
                    "metadata": {}
                  },
                  {
                    "name": "Valid_To",
                    "type": "timestamp",
                    "nullable": true,
                    "metadata": {}
                  },
                  {
                    "name": "Valid_From",
                    "type": "timestamp",
                    "nullable": true,
                    "metadata": {}
                  },
                  {
                    "name": "CustomerSK",
                    "type": "integer",
                    "nullable": true,
                    "metadata": {}
                  }
                ]
              },
              "data": [
                [
                  5,
                  "34 Park Road, East London, E9 7RW",
                  null,
                  "2022-05-28T07:16:16Z",
                  null
                ],
                [
                  6,
                  "169 Manchester Road, Preston, PR35 8AQ",
                  null,
                  "2022-05-28T07:16:16Z",
                  null
                ],
                [
                  7,
                  "52 Broadway, Plymouth, PL39 3PY",
                  null,
                  "2022-05-28T07:16:16Z",
                  null
                ],
                [
                  1,
                  "82 Margate Drive, Sheffield S4 8FQ",
                  "2099-12-24T12:01:19Z",
                  "2022-05-28T07:00:27Z",
                  1
                ],
                [
                  2,
                  "135 High Barns, Ely, CB7 4RH",
                  "2099-12-24T12:01:19Z",
                  "2022-05-28T07:00:27Z",
                  2
                ],
                [
                  3,
                  "Guyzance Cottage, Guyzance NE65 9AF",
                  "2099-12-24T12:01:19Z",
                  "2022-05-28T07:00:27Z",
                  3
                ],
                [
                  4,
                  "322 Fernhill, Mountain Ash, CF45 3EN",
                  "2099-12-24T12:01:19Z",
                  "2022-05-28T07:00:27Z",
                  4
                ],
                [
                  5,
                  "381 Southborough Lane, Bromley, BR2 8BQ",
                  "2022-05-28T07:16:11Z",
                  "2022-05-28T07:00:27Z",
                  5
                ]
              ]
            },
            "text/plain": "<Spark SQL result set with 8 rows and 5 fields>"
          },
          "metadata": {}
        }
      ],
      "execution_count": 162,
      "metadata": {
        "jupyter": {
          "source_hidden": false,
          "outputs_hidden": false
        },
        "nteract": {
          "transient": {
            "deleting": false
          }
        },
        "microsoft": {
          "language": "sparksql"
        },
        "collapsed": false
      }
    },
    {
      "cell_type": "code",
      "source": [],
      "outputs": [],
      "execution_count": null,
      "metadata": {
        "jupyter": {
          "source_hidden": false,
          "outputs_hidden": false
        },
        "nteract": {
          "transient": {
            "deleting": false
          }
        }
      }
    },
    {
      "cell_type": "code",
      "source": [],
      "outputs": [],
      "execution_count": null,
      "metadata": {
        "jupyter": {
          "source_hidden": false,
          "outputs_hidden": false
        },
        "nteract": {
          "transient": {
            "deleting": false
          }
        },
        "microsoft": {}
      }
    },
    {
      "cell_type": "code",
      "source": [],
      "outputs": [],
      "execution_count": null,
      "metadata": {
        "jupyter": {
          "source_hidden": false,
          "outputs_hidden": false
        },
        "nteract": {
          "transient": {
            "deleting": false
          }
        },
        "microsoft": {},
        "collapsed": false
      }
    }
  ],
  "metadata": {
    "kernelspec": {
      "name": "synapse_pyspark",
      "display_name": "Synapse PySpark"
    },
    "language_info": {
      "name": "python"
    },
    "description": null,
    "save_output": true,
    "synapse_widget": {
      "version": "0.1",
      "state": {
        "99918fbc-97f2-4b12-ae75-7bd950280772": {
          "type": "Synapse.DataFrame",
          "sync_state": {
            "table": {
              "rows": [
                {
                  "0": "1",
                  "1": "82 Margate Drive, Sheffield S4 8FQ"
                },
                {
                  "0": "2",
                  "1": "135 High Barns, Ely, CB7 4RH"
                },
                {
                  "0": "3",
                  "1": "Guyzance Cottage, Guyzance NE65 9AF"
                },
                {
                  "0": "4",
                  "1": "322 Fernhill, Mountain Ash, CF45 3EN"
                },
                {
                  "0": "5",
                  "1": "381 Southborough Lane, Bromley, BR2 8BQ"
                }
              ],
              "schema": [
                {
                  "key": "0",
                  "name": "CustomerID",
                  "type": "int"
                },
                {
                  "key": "1",
                  "name": "CustomerAddress",
                  "type": "string"
                }
              ],
              "truncated": false
            },
            "isSummary": false,
            "language": "scala"
          },
          "persist_state": {
            "view": {
              "type": "details",
              "tableOptions": {},
              "chartOptions": {
                "chartType": "bar",
                "aggregationType": "sum",
                "categoryFieldKeys": [
                  "1"
                ],
                "seriesFieldKeys": [
                  "0"
                ],
                "isStacked": false
              }
            }
          }
        },
        "a03c6f30-3d69-4b93-9075-150345afaacd": {
          "type": "Synapse.DataFrame",
          "sync_state": {
            "table": {
              "rows": [
                {
                  "0": "5",
                  "1": "34 Park Road, East London, E9 7RW"
                },
                {
                  "0": "6",
                  "1": "169 Manchester Road, Preston, PR35 8AQ"
                },
                {
                  "0": "7",
                  "1": "52 Broadway, Plymouth, PL39 3PY"
                }
              ],
              "schema": [
                {
                  "key": "0",
                  "name": "CustomerID",
                  "type": "int"
                },
                {
                  "key": "1",
                  "name": "CustomerAddress",
                  "type": "string"
                }
              ],
              "truncated": false
            },
            "isSummary": false,
            "language": "scala"
          },
          "persist_state": {
            "view": {
              "type": "details",
              "tableOptions": {},
              "chartOptions": {
                "chartType": "bar",
                "aggregationType": "sum",
                "categoryFieldKeys": [
                  "1"
                ],
                "seriesFieldKeys": [
                  "0"
                ],
                "isStacked": false
              }
            }
          }
        },
        "0a0851c9-c37b-4ffb-b8eb-0d89f0f6984e": {
          "type": "Synapse.DataFrame",
          "sync_state": {
            "table": {
              "rows": [
                {
                  "0": "5",
                  "1": "34 Park Road, East London, E9 7RW",
                  "3": "2022-05-28 07:16:16.831"
                },
                {
                  "0": "6",
                  "1": "169 Manchester Road, Preston, PR35 8AQ",
                  "3": "2022-05-28 07:16:16.831"
                },
                {
                  "0": "7",
                  "1": "52 Broadway, Plymouth, PL39 3PY",
                  "3": "2022-05-28 07:16:16.831"
                },
                {
                  "0": "1",
                  "1": "82 Margate Drive, Sheffield S4 8FQ",
                  "2": "2099-12-24 12:01:19",
                  "3": "2022-05-28 07:00:27.356",
                  "4": "1"
                },
                {
                  "0": "2",
                  "1": "135 High Barns, Ely, CB7 4RH",
                  "2": "2099-12-24 12:01:19",
                  "3": "2022-05-28 07:00:27.356",
                  "4": "2"
                },
                {
                  "0": "3",
                  "1": "Guyzance Cottage, Guyzance NE65 9AF",
                  "2": "2099-12-24 12:01:19",
                  "3": "2022-05-28 07:00:27.356",
                  "4": "3"
                },
                {
                  "0": "4",
                  "1": "322 Fernhill, Mountain Ash, CF45 3EN",
                  "2": "2099-12-24 12:01:19",
                  "3": "2022-05-28 07:00:27.356",
                  "4": "4"
                },
                {
                  "0": "5",
                  "1": "381 Southborough Lane, Bromley, BR2 8BQ",
                  "2": "2022-05-28 07:16:11.923",
                  "3": "2022-05-28 07:00:27.356",
                  "4": "5"
                }
              ],
              "schema": [
                {
                  "key": "0",
                  "name": "CustomerID",
                  "type": "int"
                },
                {
                  "key": "1",
                  "name": "CustomerAddress",
                  "type": "string"
                },
                {
                  "key": "2",
                  "name": "Valid_To",
                  "type": "timestamp"
                },
                {
                  "key": "3",
                  "name": "Valid_From",
                  "type": "timestamp"
                },
                {
                  "key": "4",
                  "name": "CustomerSK",
                  "type": "int"
                }
              ],
              "truncated": false
            },
            "isSummary": false,
            "language": "scala"
          },
          "persist_state": {
            "view": {
              "type": "details",
              "tableOptions": {},
              "chartOptions": {
                "chartType": "bar",
                "aggregationType": "sum",
                "categoryFieldKeys": [
                  "1"
                ],
                "seriesFieldKeys": [
                  "0"
                ],
                "isStacked": false
              }
            }
          }
        }
      }
    }
  },
  "nbformat": 4,
  "nbformat_minor": 2
}